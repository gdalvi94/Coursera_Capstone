{
 "cells": [
  {
   "cell_type": "markdown",
   "metadata": {},
   "source": [
    "<h1>The Battle of Neighborhoods | Business Proposal | Introduction</h1>"
   ]
  },
  {
   "cell_type": "markdown",
   "metadata": {},
   "source": [
    "<h3>Introduction:</h3>\n",
    "<p>The main aim of this project is to ease peoples choice making of a neighbhorhood in North York,Toronto.\n",
    "For ease of accessing to Cafe, School, Colleges, Grocery Shops,Theatre, Hospital etc.\n",
    "This Project aim to create an analysis of features for a people migrating to North York to search a best neighborhood as a comparative analysis between neighborhoods. \n",
    "It will help people to get awareness of the area and neighborhood before moving to a city.</p>\n",
    "<h3>Problems:</h3>\n",
    "<p>\n",
    "    The challenge to resolve is being able to find better neighborhood in a new city for the person who are shiffting there.\n",
    "    Close acessibility to Markets,School,Airpot etc.Main motive to find like minded people living around the neighborhood.</p>\n",
    "\n",
    "\n",
    "<h3>Foursquare API:</h3>\n",
    "<p>This project would use Four-square API as its prime data gathering source as it has a database of millions of places, especially their places API which provides the ability to perform location search, location sharing and details about a business.</p>\n",
    "\n",
    "<h3>Clustering Approach:</h3>\n",
    "<p>Used unsupervised machine learning: k-means clustering algorithm for clustering the data.</p>\n",
    "<h3>Libraries Which are Used to Develope the Project:</h3>\n",
    "<p>Pandas: For creating and manipulating dataframes.\n",
    "Scikit Learn: For importing k-means clustering.\n",
    "\n",
    "JSON: Library to handle JSON files.\n",
    "\n",
    "XML: To separate data from presentation and XML stores data in plain text format.\n",
    "\n",
    "Geocoder: To retrieve Location Data.\n",
    "\n",
    "Beautiful Soup and Requests: To scrap and library to handle http requests.\n",
    "\n",
    "Matplotlib: Python Plotting Module.</p>"
   ]
  }
 ],
 "metadata": {
  "kernelspec": {
   "display_name": "Python 3",
   "language": "python",
   "name": "python3"
  },
  "language_info": {
   "codemirror_mode": {
    "name": "ipython",
    "version": 3
   },
   "file_extension": ".py",
   "mimetype": "text/x-python",
   "name": "python",
   "nbconvert_exporter": "python",
   "pygments_lexer": "ipython3",
   "version": "3.8.3"
  }
 },
 "nbformat": 4,
 "nbformat_minor": 4
}
