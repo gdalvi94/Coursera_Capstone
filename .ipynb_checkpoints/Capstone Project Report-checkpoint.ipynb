{
 "cells": [
  {
   "cell_type": "markdown",
   "metadata": {},
   "source": [
    "<h2>Final Report | Capstone Project – The Battle of Neighborhoods Finding a Better Place in North York, Toronto</h2>"
   ]
  },
  {
   "cell_type": "markdown",
   "metadata": {},
   "source": [
    "<h2>1.Introduction:</h2>\n",
    "<p>The main aim of this project is to ease peoples choice making of a neighborhood in North York,Toronto.\n",
    "For ease of accessing to Cafe, School, Colleges, Grocery Shops,Theatre, Hospital etc.\n",
    "This Project aim to create an analysis of features for a people migrating to North York to search a best neighborhood as a comparative analysis between neighborhoods. \n",
    "It will help people to get awareness of the area and neighborhood before moving to a city.</p>\n",
    "<p>\n",
    "    The challenge to resolve is being able to find better neighborhood in a new city for the person who are shiffting there.\n",
    "    Close acessibility to Markets,School,Airpot etc.Main motive to find like minded people living around the neighborhood.</p>\n",
    "\n",
    "<h2>2.Data Description:</h2>\n",
    "    <p>Data Link: https://en.wikipedia.org/wiki/List_of_postal_codes_of_Canada:_M</p>\n",
    "    <p>Web Scraping this data will get Postal Code\t,Borough,Neighbourhood of North York,Toronto</p>\n",
    "<h1>Foursquare API Data:</h1>\n",
    "<p> Foursquare is a location data provider with information about all manner of venues and events within an area of interest.</p> \n",
    "<p>\n",
    "The data retrieved from Foursquare contained :\n",
    "</p>\n",
    "<ol>\n",
    "    <li>Neighbourhood</li>\n",
    "    <li>Neighbourhood Latitude</li>\n",
    "    <li>Neighbourhood Longitude</li>\n",
    "    <li>Venue</li>\n",
    "    <li>Venue Latitude</li>\n",
    "    <li>Venue Longitude</li>\n",
    "    <li>Venue Category</li>\n",
    "</ol>"
   ]
  },
  {
   "cell_type": "markdown",
   "metadata": {},
   "source": [
    "<h4>Map of North York,Toronto</h4>\n",
    "<img src=\"NY1.png\">"
   ]
  },
  {
   "cell_type": "markdown",
   "metadata": {},
   "source": [
    "<h2>3. Methodology Section</h2>\n",
    "<h3>Clustering Approach:</h3>\n",
    "<p>Used unsupervised machine learning: k-means clustering algorithm for clustering the data.</p>\n",
    "<p>Using K-Means Clustering Approach</p>\n",
    "<img src=\"mostcommon2.png\">\n"
   ]
  },
  {
   "cell_type": "markdown",
   "metadata": {},
   "source": [
    "<p>Most Common venues near Neighborhood</p>\n",
    "<img src=\"mostcommon1.png\">"
   ]
  },
  {
   "cell_type": "markdown",
   "metadata": {},
   "source": [
    "<h2>4. Results Section</h2>\n",
    "<p>Map of Clusters in North York</p>"
   ]
  },
  {
   "cell_type": "markdown",
   "metadata": {},
   "source": [
    "<img src=\"NY3.png\">"
   ]
  },
  {
   "cell_type": "markdown",
   "metadata": {},
   "source": [
    "<h4>The Location:</h4>\n",
    "<p>North York is one of the six administrative districts of Toronto, Ontario, Canada. It is located directly north of York, Old Toronto and East York, between Etobicoke to the west and Scarborough to the east. In 1998, North York was amalgamated with the rest of Metropolitan Toronto to form the new city of Toronto and has since been a secondary economic hub of the city outside Downtown Toronto.North York is a popular destination for new immigrants in Canada to reside.</p>\n",
    "<h4>Foursquare API:</h4>\n",
    "<p>\n",
    "This project have used Four-square API as its prime data gathering source as it has a database of millions of places, especially their places API which provides the ability to perform location search, location sharing and details about a business.\n",
    "</p>"
   ]
  },
  {
   "cell_type": "markdown",
   "metadata": {},
   "source": [
    "<h2>5. Discussion Section</h2>\n",
    "<h3>Problems Tried to solve:</h3>\n",
    "<p>\n",
    "    The challenge to resolve is being able to find better neighborhood in a new city for the person who are shiffting there.\n",
    "    Close acessibility to Markets,School,Airport etc.Main motive to find like minded people living around the neighborhood.</p>\n",
    "\n"
   ]
  },
  {
   "cell_type": "markdown",
   "metadata": {},
   "source": [
    "<h2>6. Conclusion Section</h2>"
   ]
  },
  {
   "cell_type": "markdown",
   "metadata": {},
   "source": [
    "   \n",
    "Purpose of the project was to identify best neighborhood in North York,Toronto.I narrowed down the search for optimal location for hotel,school,malls etc.I used Foursquare data for searching nearby venues.Using K-means clustring algorithm I separated the neighborhood into  different clusters and top 10 venues for each neighborhood.Used geocoder to get the latitude and longitude coordinates of a given postal code.Got 103 different lattitude and logitude for the dataset.</p>\n",
    "    \n",
    "    \n",
    "    "
   ]
  },
  {
   "cell_type": "markdown",
   "metadata": {},
   "source": [
    "<h3>Libraries Which are Used to Develope the Project:</h3>\n",
    "<p>Pandas, Scikit Learn, JSON, Folium, Beautiful Soup and Requests, Geocoder, Matplotlib</p>"
   ]
  }
 ],
 "metadata": {
  "kernelspec": {
   "display_name": "Python 3",
   "language": "python",
   "name": "python3"
  },
  "language_info": {
   "codemirror_mode": {
    "name": "ipython",
    "version": 3
   },
   "file_extension": ".py",
   "mimetype": "text/x-python",
   "name": "python",
   "nbconvert_exporter": "python",
   "pygments_lexer": "ipython3",
   "version": "3.8.3"
  }
 },
 "nbformat": 4,
 "nbformat_minor": 4
}
