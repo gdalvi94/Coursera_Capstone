{
 "cells": [
  {
   "cell_type": "markdown",
   "metadata": {},
   "source": [
    "<h1>Data Description:</h1>\n",
    "    <p>Data Link: https://en.wikipedia.org/wiki/List_of_postal_codes_of_Canada:_M</p>\n",
    "    Web Scraping this data will get Postal Code\t,Borough,Neighbourhood of North York,Toronto</p>\n",
    "<h1>Foursquare API Data:</h1>\n",
    "<p> Foursquare is a location data provider with information about all manner of venues and events within an area of interest. \n",
    "\n",
    "The data retrieved from Foursquare contained :\n",
    "</p>\n",
    "<ol>\n",
    "    <li>Neighbourhood</li>\n",
    "    <li>Neighbourhood Latitude</li>\n",
    "    <li>Neighbourhood Longitude</li>\n",
    "    <li>Venue</li>\n",
    "    <li>Venue Latitude</li>\n",
    "    <li>Venue Longitude</li>\n",
    "    <li>Venue Category</li>\n",
    "</ol>"
   ]
  }
 ],
 "metadata": {
  "kernelspec": {
   "display_name": "Python 3",
   "language": "python",
   "name": "python3"
  },
  "language_info": {
   "codemirror_mode": {
    "name": "ipython",
    "version": 3
   },
   "file_extension": ".py",
   "mimetype": "text/x-python",
   "name": "python",
   "nbconvert_exporter": "python",
   "pygments_lexer": "ipython3",
   "version": "3.8.3"
  }
 },
 "nbformat": 4,
 "nbformat_minor": 4
}
